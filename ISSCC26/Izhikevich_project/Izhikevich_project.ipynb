#SSCS Open-Source Ecosystem Code-a-Chip 2026

```
Research and Advanced Studies Center of the National Polytechnic Institute, Zacatenco Campus. Mexico City, Mexico.
```

| Name | Affiliation | IEEE Member | SSCS Member |
|---|---|---|---|
| Carlos Alberto Hernandez Guitierrez (Advisor) carlos.hernandez.g@cinvestav.mx| CINVESTAV Zacatenco, Mexico| Yes | Yes|
| Luis Martín Flores Nava lmflores@cinvestav.mx| CINVESTAV Zacatenco, Mexico| No| No|
| Luis Elias Salgado Solano luis.salgado.s@cinvestav.mx| CINVESTAV Zacatenco, Mexico| Yes| Yes|
| Andres Garcia Pliego andres.garcia.p@cinvestav.mx| CINVESTAV Zacatenco, Mexico| Yes| Yes|
| Oscar Urbina Burguete 223567@upchiapas.edu.mx| CINVESTAV Zacatenco, Mexico| No| No|
| Gerardo Daniel Alvarez Vargas gerardo.alvarez.v@cinvestav.mx| CINVESTAV Zacatenco, Mexico| Yes | Yes|

# Izhikevich spiking neuron model

The goal of this project is to create a design flow of an IC to implement the Izhikevich spiking neuron model using EDA open source tools, a verify physicaly the design with a prototype using a Nexys 4 FPGA.
The Izhikevich model combines the efficiency of the Leaky Integrate-and-Fire (LIF) model with the dynamic richness of the Hodgkin-Huxley model, achieving a balance between biological realism and computational efficiency.
It was implemented in Verilog using 18-bit fixed-point arithmetic, with dedicated modules for the neuron, DAC, and frequency divider. The output signal was transmitted in 12 bits to the DAC.
